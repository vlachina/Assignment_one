{
 "cells": [
  {
   "cell_type": "code",
   "execution_count": 21,
   "id": "addbef27-b103-47cf-b38c-9e86dc86b9d8",
   "metadata": {},
   "outputs": [],
   "source": [
    "from tyssue import Sheet\n",
    "\n",
    "from tyssue import PlanarGeometry as geom\n",
    "\n",
    "from tyssue.draw import sheet_view"
   ]
  },
  {
   "cell_type": "code",
   "execution_count": 22,
   "id": "9b6b02aa-4efc-4402-91f7-1988f12e612d",
   "metadata": {},
   "outputs": [],
   "source": [
    "# area = the absolute value of Ax(By - Cy) + Bx(Cy - Ay) + Cx(Ay - By) divided by 2\n",
    "\n",
    "#TriangleArea = abs( (x1*(y2-y3) + x2*(y3-y1) + x3*(y1-y2)) / 2 )"
   ]
  },
  {
   "cell_type": "code",
   "execution_count": 23,
   "id": "2b2ba67f-354a-41b6-9dfb-2619243a4375",
   "metadata": {},
   "outputs": [],
   "source": [
    "#2D cell map\n",
    "\n",
    "cellmap = Sheet.planar_sheet_2d('2D', nx=5, ny=7, distx=1, disty=1)"
   ]
  },
  {
   "cell_type": "code",
   "execution_count": 31,
   "id": "b2360af2-cac7-44fa-b887-37b5bebdbc70",
   "metadata": {},
   "outputs": [
    {
     "data": {
      "image/png": "[encoded data removed]",
      "text/plain": [
       "<Figure size 720x720 with 1 Axes>"
      ]
     },
     "metadata": {
      "needs_background": "light"
     },
     "output_type": "display_data"
    }
   ],
   "source": [
    "#visualisation\n",
    "\n",
    "fig, axis = sheet_view(cellmap)\n",
    "\n",
    "fig.set_size_inches(10, 10)\n",
    "\n",
    "cellmap.sanitize ( trim_borders=True, order_edges=True )\n",
    "\n",
    "geom.update_all(cellmap)"
   ]
  },
  {
   "cell_type": "code",
   "execution_count": 25,
   "id": "312de50b-8633-4027-a768-772b9ffedf57",
   "metadata": {},
   "outputs": [],
   "source": [
    "def triangle_area(x1,y1,x2,y2,x3,y3):\n",
    "    area = abs( (x1*(y2-y3) + x2*(y3-y1) + x3*(y1-y2)) / 2 )\n",
    "    return area"
   ]
  },
  {
   "cell_type": "code",
   "execution_count": 26,
   "id": "9cc340a6-debf-4add-9c0d-55a32beb30d1",
   "metadata": {},
   "outputs": [
    {
     "data": {
      "text/plain": [
       "{0: [0, 1, 2, 3], 1: [4, 5, 6, 7, 8], 2: [9, 10, 11, 12, 13], 3: [14, 15, 16], 4: [17, 18, 19, 20], 5: [21, 22, 23, 24, 25, 26], 6: [27, 28, 29, 30, 31, 32], 7: [33, 34, 35, 36, 37, 38], 8: [39, 40, 41, 42, 43, 44], 9: [45, 46, 47, 48, 49, 50], 10: [51, 52, 53, 54, 55, 56], 11: [57, 58, 59, 60], 12: [61, 62, 63, 64], 13: [65, 66, 67, 68, 69, 70], 14: [71, 72, 73, 74, 75, 76], 15: [77, 78, 79, 80, 81, 82], 16: [83, 84, 85, 86], 17: [87, 88, 89, 90, 91], 18: [92, 93, 94, 95, 96], 19: [97, 98, 99]}"
      ]
     },
     "execution_count": 26,
     "metadata": {},
     "output_type": "execute_result"
    }
   ],
   "source": [
    "face_groups_df = cellmap.edge_df.groupby(['face'])\n",
    "face_groups_df.groups"
   ]
  },
  {
   "cell_type": "code",
   "execution_count": 27,
   "id": "9c20bbe6-2f1a-4691-af88-b03c10d27f5d",
   "metadata": {},
   "outputs": [
    {
     "name": "stdout",
     "output_type": "stream",
     "text": [
      "[0]\n",
      "0.1875\n",
      "0.5\n",
      "0.5\n",
      "[1]\n",
      "0.375\n",
      "0.6875\n",
      "0.875\n",
      "0.875\n",
      "[2]\n",
      "0.375\n",
      "0.6875\n",
      "0.875\n",
      "0.875\n",
      "[3]\n",
      "0.1875\n",
      "0.1875\n",
      "[4]\n",
      "0.1875\n",
      "0.5\n",
      "0.5\n",
      "[5]\n",
      "0.125\n",
      "0.5\n",
      "0.8125\n",
      "1.0\n",
      "1.0\n",
      "[6]\n",
      "0.125\n",
      "0.5\n",
      "0.8125\n",
      "1.0\n",
      "1.0\n",
      "[7]\n",
      "0.125\n",
      "0.5\n",
      "0.8125\n",
      "1.0\n",
      "1.0\n",
      "[8]\n",
      "0.125\n",
      "0.5\n",
      "0.8125\n",
      "1.0\n",
      "1.0\n",
      "[9]\n",
      "0.125\n",
      "0.5\n",
      "0.8125\n",
      "1.0\n",
      "1.0\n",
      "[10]\n",
      "0.125\n",
      "0.5\n",
      "0.8125\n",
      "1.0\n",
      "1.0\n",
      "[11]\n",
      "0.3125\n",
      "0.5\n",
      "0.5\n",
      "[12]\n",
      "0.1875\n",
      "0.5\n",
      "0.5\n",
      "[13]\n",
      "0.125\n",
      "0.5\n",
      "0.8125\n",
      "1.0\n",
      "1.0\n",
      "[14]\n",
      "0.125\n",
      "0.5\n",
      "0.8125\n",
      "1.0\n",
      "1.0\n",
      "[15]\n",
      "0.125\n",
      "0.5\n",
      "0.8125\n",
      "1.0\n",
      "1.0\n",
      "[16]\n",
      "0.125\n",
      "0.5\n",
      "0.5\n",
      "[17]\n",
      "0.125\n",
      "0.5\n",
      "0.875\n",
      "0.875\n",
      "[18]\n",
      "0.125\n",
      "0.5\n",
      "0.875\n",
      "0.875\n",
      "[19]\n",
      "0.1875\n",
      "0.1875\n"
     ]
    }
   ],
   "source": [
    "for face in range(len(face_groups_df)):\n",
    "    allTrianglesArea = 0\n",
    "    edgesPerFace = face_groups_df.indices[face];\n",
    "    print([face])\n",
    "    firstEdge = cellmap.edge_df.loc[edgesPerFace[0]];\n",
    "    for numEdge in range(len(edgesPerFace)-1):\n",
    "        currentEdge = cellmap.edge_df.loc[edgesPerFace[numEdge]];\n",
    "        nextEdge = cellmap.edge_df.loc[edgesPerFace[numEdge + 1]];\n",
    "        allTrianglesArea = allTrianglesArea + triangle_area(firstEdge.sx, firstEdge.sy, currentEdge.tx, currentEdge.ty, nextEdge.tx, nextEdge.ty)\n",
    "        print(allTrianglesArea)"
   ]
  },
  {
   "cell_type": "code",
   "execution_count": 28,
   "id": "954ba592-ebed-4f0d-971e-e1575f89e398",
   "metadata": {},
   "outputs": [
    {
     "name": "stdout",
     "output_type": "stream",
     "text": [
      "             y  is_alive  perimeter    area         x  num_sides  id\n",
      "face                                                                \n",
      "0     1.250000         1   3.118034  0.5000  1.125000          4   0\n",
      "1     1.125000         1   3.618034  0.8750  2.000000          5   0\n",
      "2     1.125000         1   3.618034  0.8750  3.000000          5   0\n",
      "3     1.208333         1   2.427051  0.1875  3.666667          3   0\n",
      "4     2.000000         1   3.118034  0.5000  0.750000          4   0\n",
      "5     2.000000         1   3.736068  1.0000  1.500000          6   0\n",
      "6     2.000000         1   3.736068  1.0000  2.500000          6   0\n",
      "7     2.000000         1   3.736068  1.0000  3.500000          6   0\n",
      "8     3.000000         1   3.736068  1.0000  1.000000          6   0\n",
      "9     3.000000         1   3.736068  1.0000  2.000000          6   0\n",
      "10    3.000000         1   3.736068  1.0000  3.000000          6   0\n",
      "11    3.000000         1   3.118034  0.5000  3.750000          4   0\n",
      "12    4.000000         1   3.118034  0.5000  0.750000          4   0\n",
      "13    4.000000         1   3.736068  1.0000  1.500000          6   0\n",
      "14    4.000000         1   3.736068  1.0000  2.500000          6   0\n",
      "15    4.000000         1   3.736068  1.0000  3.500000          6   0\n",
      "16    4.750000         1   3.118034  0.5000  1.125000          4   0\n",
      "17    4.875000         1   3.618034  0.8750  2.000000          5   0\n",
      "18    4.875000         1   3.618034  0.8750  3.000000          5   0\n",
      "19    4.791667         1   2.427051  0.1875  3.666667          3   0\n"
     ]
    }
   ],
   "source": [
    "print(cellmap.face_df)"
   ]
  },
  {
   "cell_type": "code",
   "execution_count": 29,
   "id": "f007bc9d-8e98-4a14-a8a1-3dc827ee0ee9",
   "metadata": {},
   "outputs": [
    {
     "name": "stdout",
     "output_type": "stream",
     "text": [
      "0 Correct\n",
      "0 Correct\n",
      "0 Correct\n",
      "1 Correct\n",
      "1 Correct\n",
      "1 Correct\n",
      "1 Correct\n",
      "2 Correct\n",
      "2 Correct\n",
      "2 Correct\n",
      "2 Correct\n",
      "3 Correct\n",
      "3 Correct\n",
      "4 Correct\n",
      "4 Correct\n",
      "4 Correct\n",
      "5 Correct\n",
      "5 Correct\n",
      "5 Correct\n",
      "5 Correct\n",
      "5 Correct\n",
      "6 Correct\n",
      "6 Correct\n",
      "6 Correct\n",
      "6 Correct\n",
      "6 Correct\n",
      "7 Correct\n",
      "7 Correct\n",
      "7 Correct\n",
      "7 Correct\n",
      "7 Correct\n",
      "8 Correct\n",
      "8 Correct\n",
      "8 Correct\n",
      "8 Correct\n",
      "8 Correct\n",
      "9 Correct\n",
      "9 Correct\n",
      "9 Correct\n",
      "9 Correct\n",
      "9 Correct\n",
      "10 Correct\n",
      "10 Correct\n",
      "10 Correct\n",
      "10 Correct\n",
      "10 Correct\n",
      "11 Correct\n",
      "11 Correct\n",
      "11 Correct\n",
      "12 Correct\n",
      "12 Correct\n",
      "12 Correct\n",
      "13 Correct\n",
      "13 Correct\n",
      "13 Correct\n",
      "13 Correct\n",
      "13 Correct\n",
      "14 Correct\n",
      "14 Correct\n",
      "14 Correct\n",
      "14 Correct\n",
      "14 Correct\n",
      "15 Correct\n",
      "15 Correct\n",
      "15 Correct\n",
      "15 Correct\n",
      "15 Correct\n",
      "16 Correct\n",
      "16 Correct\n",
      "16 Correct\n",
      "17 Correct\n",
      "17 Correct\n",
      "17 Correct\n",
      "17 Correct\n",
      "18 Correct\n",
      "18 Correct\n",
      "18 Correct\n",
      "18 Correct\n",
      "19 Correct\n",
      "19 Correct\n"
     ]
    }
   ],
   "source": [
    "for face in range(len(face_groups_df)):\n",
    "    edgesPerFace = face_groups_df.indices[face];\n",
    "    for numEdge in range(len(edgesPerFace)-1):\n",
    "        currentEdge = cellmap.edge_df.loc[edgesPerFace[numEdge]];\n",
    "        nextEdge = cellmap.edge_df.loc[edgesPerFace[numEdge + 1]];\n",
    "        currentEdge = cellmap.edge_df.loc[edgesPerFace[numEdge]]\n",
    "        nextEdge = cellmap.edge_df.loc[edgesPerFace[numEdge + 1]];\n",
    "        if nextEdge.sx != currentEdge.tx or nextEdge.sy != currentEdge.ty:\n",
    "            print(face, 'False')\n",
    "        else:\n",
    "            print(face, 'Correct')"
   ]
  },
  {
   "cell_type": "code",
   "execution_count": null,
   "id": "d3a85b28-bf7f-4f47-803f-033c06ddb490",
   "metadata": {},
   "outputs": [],
   "source": []
  },
  {
   "cell_type": "code",
   "execution_count": null,
   "id": "680042c3-87ab-4f38-a23c-4cd467ab79f3",
   "metadata": {},
   "outputs": [],
   "source": []
  },
  {
   "cell_type": "code",
   "execution_count": null,
   "id": "9b568be4-d163-479d-aeea-3393ebc4363e",
   "metadata": {},
   "outputs": [],
   "source": []
  },
  {
   "cell_type": "code",
   "execution_count": null,
   "id": "345dae8f-41dd-4b89-ae17-87481e47b727",
   "metadata": {},
   "outputs": [],
   "source": []
  },
  {
   "cell_type": "code",
   "execution_count": null,
   "id": "b6b12dfc-d2b2-44ef-bad3-fb0b71cdaeff",
   "metadata": {},
   "outputs": [],
   "source": []
  },
  {
   "cell_type": "code",
   "execution_count": null,
   "id": "833e3d21-fe50-4c8c-8490-85a06efb59b7",
   "metadata": {},
   "outputs": [],
   "source": []
  }
 ],
 "metadata": {
  "kernelspec": {
   "display_name": "Python 3",
   "language": "python",
   "name": "python3"
  },
  "language_info": {
   "codemirror_mode": {
    "name": "ipython",
    "version": 3
   },
   "file_extension": ".py",
   "mimetype": "text/x-python",
   "name": "python",
   "nbconvert_exporter": "python",
   "pygments_lexer": "ipython3",
   "version": "3.9.12"
  }
 },
 "nbformat": 4,
 "nbformat_minor": 5
}
